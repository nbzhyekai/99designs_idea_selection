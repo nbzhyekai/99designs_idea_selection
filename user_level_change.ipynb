{
 "cells": [
  {
   "cell_type": "code",
   "execution_count": 1,
   "metadata": {},
   "outputs": [],
   "source": [
    "import pandas as pd\n",
    "import numpy as np\n",
    "import glob\n",
    "import os\n",
    "from tqdm import tqdm"
   ]
  },
  {
   "cell_type": "code",
   "execution_count": 2,
   "metadata": {},
   "outputs": [
    {
     "data": {
      "text/plain": [
       "['user_profiles\\\\user_profile_2022-02-01.csv',\n",
       " 'user_profiles\\\\user_profile_2022-02-02.csv',\n",
       " 'user_profiles\\\\user_profile_2022-02-03.csv',\n",
       " 'user_profiles\\\\user_profile_2022-02-04.csv',\n",
       " 'user_profiles\\\\user_profile_2022-02-05.csv']"
      ]
     },
     "execution_count": 2,
     "metadata": {},
     "output_type": "execute_result"
    }
   ],
   "source": [
    "globbed_files = glob.glob(\"user_profiles/*.csv\") #creates a list of all csv files\n",
    "globbed_files[:5]"
   ]
  },
  {
   "cell_type": "code",
   "execution_count": 3,
   "metadata": {},
   "outputs": [],
   "source": [
    "data = [] # pd.concat takes a list of dataframes as an agrument\n",
    "for csv in globbed_files:\n",
    "    frame = pd.read_csv(csv)\n",
    "    data.append(frame)\n"
   ]
  },
  {
   "cell_type": "code",
   "execution_count": 4,
   "metadata": {},
   "outputs": [],
   "source": [
    "bigframe = pd.concat(data, ignore_index=True)\n",
    "bigframe = bigframe.drop('reviews', axis=1)"
   ]
  },
  {
   "cell_type": "code",
   "execution_count": 5,
   "metadata": {},
   "outputs": [
    {
     "data": {
      "text/plain": [
       "(299667, 13)"
      ]
     },
     "execution_count": 5,
     "metadata": {},
     "output_type": "execute_result"
    }
   ],
   "source": [
    "bigframe.shape"
   ]
  },
  {
   "cell_type": "code",
   "execution_count": 6,
   "metadata": {},
   "outputs": [
    {
     "data": {
      "text/plain": [
       "Index(['user_id', 'user_name', 'about', 'stars', 'review_count',\n",
       "       'member_since', 'contests_won', 'runner_up', '1_to_1_projects', 'tags',\n",
       "       'repeat_clients', 'certification', 'timestamp'],\n",
       "      dtype='object')"
      ]
     },
     "execution_count": 6,
     "metadata": {},
     "output_type": "execute_result"
    }
   ],
   "source": [
    "bigframe.columns"
   ]
  },
  {
   "cell_type": "code",
   "execution_count": 7,
   "metadata": {},
   "outputs": [],
   "source": [
    "bigframe['level'] = bigframe['certification'].apply(lambda x: 'Entry' if 'Entry Level' in x else ('Mid' if 'Mid Level' in x else 'Top'))\n"
   ]
  },
  {
   "cell_type": "code",
   "execution_count": 8,
   "metadata": {},
   "outputs": [
    {
     "data": {
      "text/plain": [
       "(17365, 14)"
      ]
     },
     "execution_count": 8,
     "metadata": {},
     "output_type": "execute_result"
    }
   ],
   "source": [
    "# get unique solver\n",
    "unique_solvers = bigframe.drop_duplicates(subset='user_id', keep=\"first\")\n",
    "unique_solvers.shape"
   ]
  },
  {
   "cell_type": "code",
   "execution_count": 9,
   "metadata": {},
   "outputs": [
    {
     "name": "stderr",
     "output_type": "stream",
     "text": [
      "524it [00:10, 47.76it/s]"
     ]
    }
   ],
   "source": [
    "ids = []\n",
    "levels_start = []\n",
    "levels_end = []\n",
    "timestamps = []\n",
    "for idx, row in tqdm(unique_solvers.iterrows()):\n",
    "    id = row['user_id']\n",
    "    level_start = row['level']\n",
    "    ## find all info about that user\n",
    "    solver_df = bigframe[(bigframe['user_id']==id) &(bigframe['level']!=level_start)]\n",
    "    # print(solver_df)\n",
    "    if not solver_df.empty:\n",
    "        solver_df.reset_index(inplace=True)\n",
    "        # print(solver_df)\n",
    "        # print(id, level_start, solver_df['level'][0],  solver_df['timestamp'][0])\n",
    "        ids.append(id); levels_start.append(level_start); levels_end.append(solver_df['level'][0])\n",
    "        timestamps.append(solver_df['timestamp'][0])\n"
   ]
  },
  {
   "cell_type": "code",
   "execution_count": null,
   "metadata": {},
   "outputs": [
    {
     "data": {
      "text/plain": [
       "184"
      ]
     },
     "execution_count": 19,
     "metadata": {},
     "output_type": "execute_result"
    }
   ],
   "source": [
    "len(ids)"
   ]
  },
  {
   "cell_type": "code",
   "execution_count": null,
   "metadata": {},
   "outputs": [],
   "source": [
    "user_level_change = pd.DataFrame({'user_id': ids, 'level_before': levels_start, 'level_after': levels_end, 'date_of_change': timestamps})"
   ]
  },
  {
   "cell_type": "code",
   "execution_count": null,
   "metadata": {},
   "outputs": [],
   "source": [
    "user_level_change.to_csv('user_level_change.csv', index=False)"
   ]
  },
  {
   "cell_type": "code",
   "execution_count": null,
   "metadata": {},
   "outputs": [
    {
     "data": {
      "text/html": [
       "<div>\n",
       "<style scoped>\n",
       "    .dataframe tbody tr th:only-of-type {\n",
       "        vertical-align: middle;\n",
       "    }\n",
       "\n",
       "    .dataframe tbody tr th {\n",
       "        vertical-align: top;\n",
       "    }\n",
       "\n",
       "    .dataframe thead th {\n",
       "        text-align: right;\n",
       "    }\n",
       "</style>\n",
       "<table border=\"1\" class=\"dataframe\">\n",
       "  <thead>\n",
       "    <tr style=\"text-align: right;\">\n",
       "      <th></th>\n",
       "      <th>level_before</th>\n",
       "      <th>level_after</th>\n",
       "      <th>user_id</th>\n",
       "      <th>date_of_change</th>\n",
       "    </tr>\n",
       "  </thead>\n",
       "  <tbody>\n",
       "    <tr>\n",
       "      <th>0</th>\n",
       "      <td>Entry</td>\n",
       "      <td>Mid</td>\n",
       "      <td>70</td>\n",
       "      <td>70</td>\n",
       "    </tr>\n",
       "    <tr>\n",
       "      <th>1</th>\n",
       "      <td>Mid</td>\n",
       "      <td>Entry</td>\n",
       "      <td>84</td>\n",
       "      <td>84</td>\n",
       "    </tr>\n",
       "    <tr>\n",
       "      <th>2</th>\n",
       "      <td>Mid</td>\n",
       "      <td>Top</td>\n",
       "      <td>10</td>\n",
       "      <td>10</td>\n",
       "    </tr>\n",
       "    <tr>\n",
       "      <th>3</th>\n",
       "      <td>Top</td>\n",
       "      <td>Mid</td>\n",
       "      <td>20</td>\n",
       "      <td>20</td>\n",
       "    </tr>\n",
       "  </tbody>\n",
       "</table>\n",
       "</div>"
      ],
      "text/plain": [
       "  level_before level_after  user_id  date_of_change\n",
       "0        Entry         Mid       70              70\n",
       "1          Mid       Entry       84              84\n",
       "2          Mid         Top       10              10\n",
       "3          Top         Mid       20              20"
      ]
     },
     "execution_count": 23,
     "metadata": {},
     "output_type": "execute_result"
    }
   ],
   "source": [
    "user_level_change.groupby(['level_before', 'level_after'], as_index=False).count()"
   ]
  },
  {
   "cell_type": "code",
   "execution_count": null,
   "metadata": {},
   "outputs": [],
   "source": []
  }
 ],
 "metadata": {
  "kernelspec": {
   "display_name": "Python 3.9.12 ('base')",
   "language": "python",
   "name": "python3"
  },
  "language_info": {
   "codemirror_mode": {
    "name": "ipython",
    "version": 3
   },
   "file_extension": ".py",
   "mimetype": "text/x-python",
   "name": "python",
   "nbconvert_exporter": "python",
   "pygments_lexer": "ipython3",
   "version": "3.9.12"
  },
  "orig_nbformat": 4,
  "vscode": {
   "interpreter": {
    "hash": "0c12256f58bf8f32a60226d33266d3233e52104bc16a76b99cdcc6182972000e"
   }
  }
 },
 "nbformat": 4,
 "nbformat_minor": 2
}
